{
  "nbformat": 4,
  "nbformat_minor": 0,
  "metadata": {
    "colab": {
      "provenance": [],
      "toc_visible": true,
      "include_colab_link": true
    },
    "kernelspec": {
      "name": "python3",
      "display_name": "Python 3"
    },
    "language_info": {
      "name": "python"
    }
  },
  "cells": [
    {
      "cell_type": "markdown",
      "metadata": {
        "id": "view-in-github",
        "colab_type": "text"
      },
      "source": [
        "<a href=\"https://colab.research.google.com/github/Jagadeeshkavuri1/ML_assignments/blob/main/assigment-1.ipynb\" target=\"_parent\"><img src=\"https://colab.research.google.com/assets/colab-badge.svg\" alt=\"Open In Colab\"/></a>"
      ]
    },
    {
      "cell_type": "markdown",
      "source": [
        "#1)arithmetic operations on NumPy arrays\n"
      ],
      "metadata": {
        "id": "VJlptzE86FbA"
      }
    },
    {
      "cell_type": "code",
      "execution_count": 46,
      "metadata": {
        "colab": {
          "base_uri": "https://localhost:8080/"
        },
        "id": "jPlSvopa2fh8",
        "outputId": "8c241f4c-c668-43c8-a3c0-a60a3a3e7b5b"
      },
      "outputs": [
        {
          "output_type": "stream",
          "name": "stdout",
          "text": [
            "array_1 [5 6 7 8]\n",
            "array_2 [1 3 2 2]\n",
            "addition of two matrix is  [ 6  9  9 10]\n",
            "using add function [ 6  9  9 10]\n",
            "------------------------------------------\n",
            "subtraction of two matrix is  [4 3 5 6]\n",
            "using sub function [4 3 5 6]\n",
            "------------------------------------------\n",
            "multiplication of two matrix is  [ 5 18 14 16]\n",
            "using multiply function [ 5 18 14 16]\n",
            "------------------------------------------\n",
            "division of two matrix is  [5.  2.  3.5 4. ]\n",
            "using div function [5.  2.  3.5 4. ]\n",
            "------------------------------------------\n",
            "modulo of two matrix is  [0 0 1 0]\n",
            "using modulo function [0 0 1 0]\n",
            "------------------------------------------\n",
            "power  of two matrix is  [  5 216  49  64]\n",
            "using power function [  5 216  49  64]\n"
          ]
        }
      ],
      "source": [
        "import numpy as k\n",
        "a=k.array([5,6,7,8])\n",
        "b=k.array([1,3,2,2])\n",
        "print(\"array_1\",a)\n",
        "print(\"array_2\",b)\n",
        "print(\"addition of two matrix is \",a+b)\n",
        "print(\"using add function\",k.add(a,b))\n",
        "print(\"------------------------------------------\")\n",
        "print(\"subtraction of two matrix is \",a-b)\n",
        "print(\"using sub function\",k.subtract(a,b))\n",
        "print(\"------------------------------------------\")\n",
        "print(\"multiplication of two matrix is \",a*b)\n",
        "print(\"using multiply function\",k.multiply(a,b))\n",
        "print(\"------------------------------------------\")\n",
        "print(\"division of two matrix is \",a/b)\n",
        "print(\"using div function\",k.divide(a,b))\n",
        "print(\"------------------------------------------\")\n",
        "print(\"modulo of two matrix is \",a%b)\n",
        "print(\"using modulo function\",k.mod(a,b))\n",
        "print(\"------------------------------------------\")\n",
        "print(\"power  of two matrix is \",a**b)\n",
        "print(\"using power function\",k.power(a,b))\n",
        "\n",
        "\n",
        "\n",
        "\n"
      ]
    },
    {
      "cell_type": "markdown",
      "source": [
        "#2)Write a script to compute the mean and standard deviation of a NumPy array."
      ],
      "metadata": {
        "id": "-GYlxRqX88Yy"
      }
    },
    {
      "cell_type": "code",
      "source": [
        "ke=([1,2,3,4,5])\n",
        "print(\"mean of the array is \",k.mean(ke))\n",
        "print(\"standard devation is \",k.std(ke))"
      ],
      "metadata": {
        "colab": {
          "base_uri": "https://localhost:8080/"
        },
        "id": "JOWARF6f9El5",
        "outputId": "4394911a-b19a-4d8f-d6b7-cd59a424fdd0"
      },
      "execution_count": 47,
      "outputs": [
        {
          "output_type": "stream",
          "name": "stdout",
          "text": [
            "mean of the array is  3.0\n",
            "standard devation is  1.4142135623730951\n"
          ]
        }
      ]
    },
    {
      "cell_type": "markdown",
      "source": [
        "#3)NumPy array of integers from 10 to 50 with a step size of 5.\n"
      ],
      "metadata": {
        "id": "YvLutnN1VV_B"
      }
    },
    {
      "cell_type": "code",
      "source": [
        "import numpy as ka\n",
        "a1=ka.arange(10,51,5)\n",
        "print(a1)"
      ],
      "metadata": {
        "colab": {
          "base_uri": "https://localhost:8080/"
        },
        "id": "T02c-_HhJY0E",
        "outputId": "ad638483-2bc8-4fbb-fd95-12b0d5403806"
      },
      "execution_count": 48,
      "outputs": [
        {
          "output_type": "stream",
          "name": "stdout",
          "text": [
            "[10 15 20 25 30 35 40 45 50]\n"
          ]
        }
      ]
    },
    {
      "cell_type": "markdown",
      "source": [
        "#4)Reshape the array into a 2x4 matrix"
      ],
      "metadata": {
        "id": "t7tcVfRiZAqF"
      }
    },
    {
      "cell_type": "code",
      "source": [
        "import numpy as kb\n",
        "print(\"before reshape the array\")\n",
        "b1=kb.arange(10,50,5)\n",
        "print(b1)\n",
        "print(\"------------------------------------------\")\n",
        "print(\"after reshape the array\")\n",
        "a2=kb.arange(10,50,5).reshape(2,4)\n",
        "print(a2)\n"
      ],
      "metadata": {
        "colab": {
          "base_uri": "https://localhost:8080/"
        },
        "id": "We79QmPiY-51",
        "outputId": "3bccb540-2062-4e79-a2f0-ef8f97976842"
      },
      "execution_count": 49,
      "outputs": [
        {
          "output_type": "stream",
          "name": "stdout",
          "text": [
            "before reshape the array\n",
            "[10 15 20 25 30 35 40 45]\n",
            "------------------------------------------\n",
            "after reshape the array\n",
            "[[10 15 20 25]\n",
            " [30 35 40 45]]\n"
          ]
        }
      ]
    },
    {
      "cell_type": "markdown",
      "source": [
        "#5)\n"
      ],
      "metadata": {
        "id": "3H9LITzIbRjE"
      }
    },
    {
      "cell_type": "markdown",
      "source": [
        "##(i)Extract the sub-matrix containing the last two rows and first two columns"
      ],
      "metadata": {
        "id": "2S_DaEwv9nhC"
      }
    },
    {
      "cell_type": "code",
      "source": [
        "import numpy as p\n",
        "arr = p.array([[1, 2, 3], [4, 5, 6], [7, 8, 9]]).reshape(3,3)\n",
        "print(\"before extracting\\n\",arr)\n",
        "print(\"Extract last two rows and first two columns\")\n",
        "a3=arr[1:,:2]\n",
        "print(a3)\n"
      ],
      "metadata": {
        "colab": {
          "base_uri": "https://localhost:8080/"
        },
        "id": "lEC4kS0OcNBS",
        "outputId": "4f7e58d2-50d0-4940-92a7-f36f26f7ccdb"
      },
      "execution_count": 50,
      "outputs": [
        {
          "output_type": "stream",
          "name": "stdout",
          "text": [
            "before extracting\n",
            " [[1 2 3]\n",
            " [4 5 6]\n",
            " [7 8 9]]\n",
            "Extract last two rows and first two columns\n",
            "[[4 5]\n",
            " [7 8]]\n"
          ]
        }
      ]
    },
    {
      "cell_type": "markdown",
      "source": [
        "##(ii)Replace all elements greater than 4 with 0"
      ],
      "metadata": {
        "id": "dKIuT5XRd-ki"
      }
    },
    {
      "cell_type": "code",
      "source": [
        "print(\"before replace\\n\",a3)\n",
        "print(\"------------------------------------------\")\n",
        "print(\"after replace all elements greater than 4 with 0 \")\n",
        "a3[a3>4]=0\n",
        "print(a3)\n",
        "\n"
      ],
      "metadata": {
        "colab": {
          "base_uri": "https://localhost:8080/"
        },
        "id": "a7p3AZd6eLph",
        "outputId": "249d6af3-1215-4e3d-af0e-1446e55b7d32"
      },
      "execution_count": 51,
      "outputs": [
        {
          "output_type": "stream",
          "name": "stdout",
          "text": [
            "before replace\n",
            " [[4 5]\n",
            " [7 8]]\n",
            "------------------------------------------\n",
            "after replace all elements greater than 4 with 0 \n",
            "[[4 0]\n",
            " [0 0]]\n"
          ]
        }
      ]
    },
    {
      "cell_type": "markdown",
      "source": [],
      "metadata": {
        "id": "CGJyICNkj1J2"
      }
    },
    {
      "cell_type": "markdown",
      "source": [
        "#6)Create two 1D arrays and Perform element-wise addition, multiplication, and division."
      ],
      "metadata": {
        "id": "vaFJkDgVjWuO"
      }
    },
    {
      "cell_type": "code",
      "source": [
        "import numpy as g\n",
        "c = g.array([4, 15, 12])\n",
        "d = g.array([2, 5, 6])\n",
        "print(\"array_1 : \",c,\"\\n array_2 : \",d)\n",
        "print(\"addtiton is \",c+d)\n",
        "print(\"multiplication \",c*d)\n",
        "print(\"division is \",c/d)\n"
      ],
      "metadata": {
        "colab": {
          "base_uri": "https://localhost:8080/"
        },
        "id": "twfxFfBNjraU",
        "outputId": "9f7c1d23-6bde-4368-e33c-f9bf8deed4bf"
      },
      "execution_count": 52,
      "outputs": [
        {
          "output_type": "stream",
          "name": "stdout",
          "text": [
            "array_1 :  [ 4 15 12] \n",
            " array_2 :  [2 5 6]\n",
            "addtiton is  [ 6 20 18]\n",
            "multiplication  [ 8 75 72]\n",
            "division is  [2. 3. 2.]\n"
          ]
        }
      ]
    },
    {
      "cell_type": "markdown",
      "source": [
        "#7. Create a random NumPy array of size (4, 4). Compute:  "
      ],
      "metadata": {
        "id": "eCaWfJoil_l7"
      }
    },
    {
      "cell_type": "code",
      "source": [
        "import numpy as np\n",
        "r_array = np.random.randint(1, 101, size=(4, 4))\n",
        "print(\"the random array is\\n\",r_array)"
      ],
      "metadata": {
        "colab": {
          "base_uri": "https://localhost:8080/"
        },
        "id": "e0WzDTvVmny6",
        "outputId": "c97fdb8c-3d90-4a54-b0b4-d24645edbb32"
      },
      "execution_count": 53,
      "outputs": [
        {
          "output_type": "stream",
          "name": "stdout",
          "text": [
            "the random array is\n",
            " [[38 54 17 33]\n",
            " [88  4 28 19]\n",
            " [37  6 11 79]\n",
            " [61 31 83 18]]\n"
          ]
        }
      ]
    },
    {
      "cell_type": "markdown",
      "source": [
        "##(i)Mean of each column.\n"
      ],
      "metadata": {
        "id": "_xgFnhFc-gTS"
      }
    },
    {
      "cell_type": "code",
      "source": [
        "print(\"mean of the each column\\n\",np.mean(r_array,axis=0))"
      ],
      "metadata": {
        "colab": {
          "base_uri": "https://localhost:8080/"
        },
        "id": "lO08piYt-xUa",
        "outputId": "8132583d-812d-4d29-b99b-d7a20e3c7375"
      },
      "execution_count": 54,
      "outputs": [
        {
          "output_type": "stream",
          "name": "stdout",
          "text": [
            "mean of the each column\n",
            " [56.   23.75 34.75 37.25]\n"
          ]
        }
      ]
    },
    {
      "cell_type": "markdown",
      "source": [],
      "metadata": {
        "id": "L_IhrYon-w7i"
      }
    },
    {
      "cell_type": "markdown",
      "source": [
        "##(ii)Maximum value of the entire array."
      ],
      "metadata": {
        "id": "RhF3y6pf_UEi"
      }
    },
    {
      "cell_type": "code",
      "source": [
        "print(\"Maximum value of the entire array\\n\",np.max(r_array))\n"
      ],
      "metadata": {
        "colab": {
          "base_uri": "https://localhost:8080/"
        },
        "id": "v--AlgUO_K3y",
        "outputId": "a79c1a7d-e7a6-4dc3-8bdf-4e23438faa5f"
      },
      "execution_count": 55,
      "outputs": [
        {
          "output_type": "stream",
          "name": "stdout",
          "text": [
            "Maximum value of the entire array\n",
            " 88\n"
          ]
        }
      ]
    },
    {
      "cell_type": "markdown",
      "source": [
        "##(iii) Sum of all elements."
      ],
      "metadata": {
        "id": "PlIL3XV0_Diz"
      }
    },
    {
      "cell_type": "code",
      "source": [
        "print(\"sum of all elements in array is\",np.sum(r_array))"
      ],
      "metadata": {
        "colab": {
          "base_uri": "https://localhost:8080/"
        },
        "id": "cqBi347V_hZK",
        "outputId": "f7bda0eb-b982-45e4-9e87-e2aa37b612a3"
      },
      "execution_count": 56,
      "outputs": [
        {
          "output_type": "stream",
          "name": "stdout",
          "text": [
            "sum of all elements in array is 607\n"
          ]
        }
      ]
    },
    {
      "cell_type": "markdown",
      "source": [
        "#8)Given the array and add 10 to each element and multiply the result by 2."
      ],
      "metadata": {
        "id": "WLNivAnArVE2"
      }
    },
    {
      "cell_type": "code",
      "source": [
        "arr1 = np.array([1, 2, 3, 4])\n",
        "result = (arr1 + 10) * 2\n",
        "print(\"Original Array:\", arr1)\n",
        "print(\"Result after adding 10 and multiplying by 2:\", result)\n"
      ],
      "metadata": {
        "colab": {
          "base_uri": "https://localhost:8080/"
        },
        "id": "sCCBdcSZqxJX",
        "outputId": "e5862cd6-aa13-4bf6-8c4b-6c8c251dfc0d"
      },
      "execution_count": 57,
      "outputs": [
        {
          "output_type": "stream",
          "name": "stdout",
          "text": [
            "Original Array: [1 2 3 4]\n",
            "Result after adding 10 and multiplying by 2: [22 24 26 28]\n"
          ]
        }
      ]
    },
    {
      "cell_type": "markdown",
      "source": [
        "#9.Perform advanced slicing and indexing on a 3D array. Create a 3D NumPy array arr of shape (3, 4, 5) with random integers ranging from 1 to 10"
      ],
      "metadata": {
        "id": "q1aogPRtrq9V"
      }
    },
    {
      "cell_type": "code",
      "source": [
        "arr2 = np.random.randint(1, 101, size=(3, 4, 5))\n",
        "print(\"Original Array:\\n\", arr2)"
      ],
      "metadata": {
        "colab": {
          "base_uri": "https://localhost:8080/"
        },
        "id": "RVBqB6BgsJFV",
        "outputId": "6673f242-074d-41ba-cd42-7c0336920640"
      },
      "execution_count": 58,
      "outputs": [
        {
          "output_type": "stream",
          "name": "stdout",
          "text": [
            "Original Array:\n",
            " [[[ 11  88  29  26  63]\n",
            "  [  5  10  20  14  96]\n",
            "  [ 43  36 100   9  58]\n",
            "  [ 37  85  71  19  84]]\n",
            "\n",
            " [[ 24  63  31  85  34]\n",
            "  [ 57  78  73  40   5]\n",
            "  [ 45  21  82  79  20]\n",
            "  [ 29  35   8  43  25]]\n",
            "\n",
            " [[ 21  44  24  96  36]\n",
            "  [ 49  37  59  96  74]\n",
            "  [ 24  54  90  48  19]\n",
            "  [ 28  49  84  26  44]]]\n"
          ]
        }
      ]
    },
    {
      "cell_type": "markdown",
      "source": [
        "##(i)Extract the second \"layer\" (i.e., the second 2D array) in the first dimension.\n"
      ],
      "metadata": {
        "id": "yDVU36vLr-IX"
      }
    },
    {
      "cell_type": "code",
      "source": [
        "second_layer = arr2[1, :, :]\n",
        "print(\"\\nSecond Layer:\\n\", second_layer)"
      ],
      "metadata": {
        "colab": {
          "base_uri": "https://localhost:8080/"
        },
        "id": "_aWJIOKes6UX",
        "outputId": "a96b5afe-ec0f-41ea-c565-3dec7c2622cb"
      },
      "execution_count": 59,
      "outputs": [
        {
          "output_type": "stream",
          "name": "stdout",
          "text": [
            "\n",
            "Second Layer:\n",
            " [[24 63 31 85 34]\n",
            " [57 78 73 40  5]\n",
            " [45 21 82 79 20]\n",
            " [29 35  8 43 25]]\n"
          ]
        }
      ]
    },
    {
      "cell_type": "markdown",
      "source": [
        "##(ii)Extract the first two rows and the last three columns from each \"layer.\"\n"
      ],
      "metadata": {
        "id": "nNItu5MTAkdT"
      }
    },
    {
      "cell_type": "code",
      "source": [
        "sub_array = arr2[:, :2, -3:]\n",
        "print(\"\\nFirst two rows and last three columns from each layer:\\n\", sub_array)"
      ],
      "metadata": {
        "colab": {
          "base_uri": "https://localhost:8080/"
        },
        "id": "fGEG9SWGBB6S",
        "outputId": "fbf9ed65-3e3e-457a-bfec-f5ad4e4110a2"
      },
      "execution_count": 60,
      "outputs": [
        {
          "output_type": "stream",
          "name": "stdout",
          "text": [
            "\n",
            "First two rows and last three columns from each layer:\n",
            " [[[29 26 63]\n",
            "  [20 14 96]]\n",
            "\n",
            " [[31 85 34]\n",
            "  [73 40  5]]\n",
            "\n",
            " [[24 96 36]\n",
            "  [59 96 74]]]\n"
          ]
        }
      ]
    },
    {
      "cell_type": "markdown",
      "source": [
        "##(iii)Replace all elements divisible by 3 with -1."
      ],
      "metadata": {
        "id": "f-z8kCfiAuSD"
      }
    },
    {
      "cell_type": "code",
      "source": [
        "arr2[arr2 % 3 == 0] = -1\n",
        "print(\"\\nArray after replacing elements divisible by 3 with -1:\\n\", arr2)"
      ],
      "metadata": {
        "colab": {
          "base_uri": "https://localhost:8080/"
        },
        "id": "qt3VBAV5BEPS",
        "outputId": "e3d7801d-346c-4bd0-c87e-c30bf5c0b66c"
      },
      "execution_count": 61,
      "outputs": [
        {
          "output_type": "stream",
          "name": "stdout",
          "text": [
            "\n",
            "Array after replacing elements divisible by 3 with -1:\n",
            " [[[ 11  88  29  26  -1]\n",
            "  [  5  10  20  14  -1]\n",
            "  [ 43  -1 100  -1  58]\n",
            "  [ 37  85  71  19  -1]]\n",
            "\n",
            " [[ -1  -1  31  85  34]\n",
            "  [ -1  -1  73  40   5]\n",
            "  [ -1  -1  82  79  20]\n",
            "  [ 29  35   8  43  25]]\n",
            "\n",
            " [[ -1  44  -1  -1  -1]\n",
            "  [ 49  37  59  -1  74]\n",
            "  [ -1  -1  -1  -1  19]\n",
            "  [ 28  49  -1  26  44]]]\n"
          ]
        }
      ]
    },
    {
      "cell_type": "markdown",
      "source": [
        "#10. Work with broadcasting and advanced operations in NumPy. Create a NumPy array arr of shape (3, 3) with random integers between  1 and 20.\n"
      ],
      "metadata": {
        "id": "2LJaycVutyek"
      }
    },
    {
      "cell_type": "code",
      "source": [
        "arr4 = np.random.randint(1, 21, size=(3, 3))\n",
        "print(\"Original Array (arr4):\\n\", arr4)"
      ],
      "metadata": {
        "colab": {
          "base_uri": "https://localhost:8080/"
        },
        "id": "SB1zmzWB2U58",
        "outputId": "296d31d3-ae76-44d3-de7f-906d59fa8728"
      },
      "execution_count": 62,
      "outputs": [
        {
          "output_type": "stream",
          "name": "stdout",
          "text": [
            "Original Array (arr4):\n",
            " [[ 1 10  1]\n",
            " [ 1 13 13]\n",
            " [20 17  8]]\n"
          ]
        }
      ]
    },
    {
      "cell_type": "markdown",
      "source": [
        "####(i)Subtract the mean of each row from its respective elements (row-wise normalization).\n"
      ],
      "metadata": {
        "id": "UBl8mhi4Dbsb"
      }
    },
    {
      "cell_type": "code",
      "source": [
        "print(\"Original Array (arr4):\\n\", arr4)\n",
        "row_means = np.mean(arr4, axis=1, keepdims=True)\n",
        "normalized_arr = arr4 - row_means\n",
        "print(\"\\nRow-wise Normalized Array (mean subtracted):\\n\", normalized_arr)"
      ],
      "metadata": {
        "colab": {
          "base_uri": "https://localhost:8080/"
        },
        "id": "plHfXobTDtUC",
        "outputId": "6db8b0eb-4705-4886-a143-a24276b508b3"
      },
      "execution_count": 63,
      "outputs": [
        {
          "output_type": "stream",
          "name": "stdout",
          "text": [
            "Original Array (arr4):\n",
            " [[ 1 10  1]\n",
            " [ 1 13 13]\n",
            " [20 17  8]]\n",
            "\n",
            "Row-wise Normalized Array (mean subtracted):\n",
            " [[-3.  6. -3.]\n",
            " [-8.  4.  4.]\n",
            " [ 5.  2. -7.]]\n"
          ]
        }
      ]
    },
    {
      "cell_type": "markdown",
      "source": [
        "##(ii) Create a new array by squaring all the elements in arr.\n"
      ],
      "metadata": {
        "id": "KPzYhwtlDfXC"
      }
    },
    {
      "cell_type": "code",
      "source": [
        "print(\"Original Array (arr4):\\n\", arr4)\n",
        "squared_arr = np.square(arr4)\n",
        "print(\"\\nArray with squared elements:\\n\", squared_arr)"
      ],
      "metadata": {
        "colab": {
          "base_uri": "https://localhost:8080/"
        },
        "id": "rpX8voKBDt0i",
        "outputId": "fb511f0c-f06f-42ac-b6ee-c90cedf0eca5"
      },
      "execution_count": 64,
      "outputs": [
        {
          "output_type": "stream",
          "name": "stdout",
          "text": [
            "Original Array (arr4):\n",
            " [[ 1 10  1]\n",
            " [ 1 13 13]\n",
            " [20 17  8]]\n",
            "\n",
            "Array with squared elements:\n",
            " [[  1 100   1]\n",
            " [  1 169 169]\n",
            " [400 289  64]]\n"
          ]
        }
      ]
    },
    {
      "cell_type": "markdown",
      "source": [
        "##(iii)Find the indices of the top 3 maximum values in the entire array"
      ],
      "metadata": {
        "id": "b3q0Tu2WDjAS"
      }
    },
    {
      "cell_type": "code",
      "source": [
        "print(\"Original Array (arr4):\\n\", arr4)\n",
        "d1=arr4.flatten()\n",
        "s2=np.argsort(d1)[6:]\n",
        "r2=s2//arr4.shape[1]\n",
        "g2=s2%arr4.shape[1]\n",
        "t3=list(zip(r2,g2))\n",
        "print(\"top 3 maximum values indicies :\\n\",t3)"
      ],
      "metadata": {
        "colab": {
          "base_uri": "https://localhost:8080/"
        },
        "id": "9eSpuT5FDuMa",
        "outputId": "0dcb7446-8cd1-4fa3-8db3-71f008f8326a"
      },
      "execution_count": 65,
      "outputs": [
        {
          "output_type": "stream",
          "name": "stdout",
          "text": [
            "Original Array (arr4):\n",
            " [[ 1 10  1]\n",
            " [ 1 13 13]\n",
            " [20 17  8]]\n",
            "top 3 maximum values indicies :\n",
            " [(1, 2), (2, 1), (2, 0)]\n"
          ]
        }
      ]
    }
  ]
}